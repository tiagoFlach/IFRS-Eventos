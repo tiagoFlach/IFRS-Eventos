{
  "nbformat": 4,
  "nbformat_minor": 0,
  "metadata": {
    "colab": {
      "name": "Grupo de estudo - funções e while.ipynb",
      "provenance": [],
      "private_outputs": true,
      "collapsed_sections": [],
      "include_colab_link": true
    },
    "kernelspec": {
      "name": "python3",
      "display_name": "Python 3"
    }
  },
  "cells": [
    {
      "cell_type": "markdown",
      "metadata": {
        "id": "view-in-github",
        "colab_type": "text"
      },
      "source": [
        "<a href=\"https://colab.research.google.com/github/tiagoFlach/IFRS-Eventos/blob/master/Grupo_de_estudo_fun%C3%A7%C3%B5es_e_while.ipynb\" target=\"_parent\"><img src=\"https://colab.research.google.com/assets/colab-badge.svg\" alt=\"Open In Colab\"/></a>"
      ]
    },
    {
      "cell_type": "markdown",
      "metadata": {
        "id": "zqhuvT19V0f9",
        "colab_type": "text"
      },
      "source": [
        "# Sejam bem-vindos.\n",
        "# Grupo de estudos Python - Covid19\n",
        "\n",
        "* Funções definidas pelo usuário, lambda.\n",
        "* Loop while\n",
        "\n",
        "\n",
        "\n"
      ]
    },
    {
      "cell_type": "markdown",
      "metadata": {
        "id": "Ba52CdB0XUgI",
        "colab_type": "text"
      },
      "source": [
        "# Funções definidas pelo usuário.\n",
        "\n",
        "* Da mesma forma como existem as funções len(), max() e min(), é possível criar definir outras funções.\n",
        "* Funções permitem dividir o código em partes funcionais, tornando mais claro e conciso.  "
      ]
    },
    {
      "cell_type": "code",
      "metadata": {
        "id": "Us16Lm_kYIxH",
        "colab_type": "code",
        "colab": {}
      },
      "source": [
        "def minha_primeira_funcao(x):           # Você deve colocar um ':' ao final.\n",
        "    print(\"Recebi o argumento x =\", x)  # Indentar\n",
        "    return x**2     \n",
        "                                        # Remover indentação no final do bloco\n",
        "print(minha_primeira_funcao(10))"
      ],
      "execution_count": 0,
      "outputs": []
    },
    {
      "cell_type": "code",
      "metadata": {
        "colab_type": "code",
        "id": "crPCZb8lOXuN",
        "colab": {}
      },
      "source": [
        "# Uma função não precisa retornar valores\n",
        "\n",
        "def minha_segunda_funcao(x):           # Você deve colocar um ':' ao final.\n",
        "    print(\"Recebi o argumento x =\", x) # Indentar   \n",
        "\n",
        "minha_segunda_funcao(10) # não retorna nada\n",
        "# print(minha_segunda_funcao(10))"
      ],
      "execution_count": 0,
      "outputs": []
    },
    {
      "cell_type": "code",
      "metadata": {
        "id": "KNPGUcF2OsPr",
        "colab_type": "code",
        "colab": {}
      },
      "source": [
        "# Uma função pode não receber argumentos\n",
        "\n",
        "def sem_argumentos():\n",
        "    print('passei por aqui.')\n",
        "    return 3\n",
        "\n",
        "\n",
        "print(sem_argumentos())"
      ],
      "execution_count": 0,
      "outputs": []
    },
    {
      "cell_type": "code",
      "metadata": {
        "id": "sWU4etUycErr",
        "colab_type": "code",
        "colab": {}
      },
      "source": [
        "# Uma função pode receber muitos argumentos\n",
        "\n",
        "def muitos_argumentos(x, y, z):\n",
        "    return x*y + z\n",
        "    \n",
        "\n",
        "print(muitos_argumentos(1, 2, 3))"
      ],
      "execution_count": 0,
      "outputs": []
    },
    {
      "cell_type": "code",
      "metadata": {
        "id": "HkCeaVJRcW7o",
        "colab_type": "code",
        "colab": {}
      },
      "source": [
        "# Pode-se colocar valores padrão para argumentos\n",
        "def funcao(x=10, y=20, z=3):\n",
        "    return x*y + z\n",
        "\n",
        "print(funcao())     # Implícito funcao(10, 20, 3)\n",
        "print(funcao(x=2, y=5)) # Implícito funcao(2, 5, 3)\n",
        "print(funcao(z=5))  # Implícito funcao(10, 20, 5)"
      ],
      "execution_count": 0,
      "outputs": []
    },
    {
      "cell_type": "code",
      "metadata": {
        "id": "tgzNI1y7c3U9",
        "colab_type": "code",
        "colab": {}
      },
      "source": [
        "# Você pode misturar, mas os valores padrão não podem vir antes. \n",
        "def funcao(x, y=20, z=3):\n",
        "    return x*y + z\n",
        "\n",
        "print(funcao(10))     # Implícito funcao(10, 20, 3)\n",
        "print(funcao(2, 5)) # Implícito funcao(2, 5, 3)\n",
        "print(funcao(10, z=5))  # Implícito funcao(10, 20, 5)\n",
        "# print(funcao())       # Erro"
      ],
      "execution_count": 0,
      "outputs": []
    },
    {
      "cell_type": "code",
      "metadata": {
        "id": "7k6vJs6EPefw",
        "colab_type": "code",
        "colab": {}
      },
      "source": [
        "# Uma função tem acesso às variáveis definidas no contexto de onde foi chamada\n",
        "\n",
        "def minha_funcao():\n",
        "    return x\n",
        "\n",
        "x = 7\n",
        "\n",
        "print(minha_funcao())\n"
      ],
      "execution_count": 0,
      "outputs": []
    },
    {
      "cell_type": "code",
      "metadata": {
        "id": "WfEFPH4dP6gf",
        "colab_type": "code",
        "colab": {}
      },
      "source": [
        "# Mas variáveis criadas localmente são apenas locais e não se propagam.\n",
        "# Atenção, se você atribui valor a uma variável dentro de uma função, \n",
        "# ela se torna local. \n",
        "def minha_funcao():\n",
        "    # x = 2\n",
        "    y = 3\n",
        "    return x\n",
        "\n",
        "x = 5\n",
        "print(minha_funcao())\n",
        "print(x)\n",
        "# print(y) # erro"
      ],
      "execution_count": 0,
      "outputs": []
    },
    {
      "cell_type": "code",
      "metadata": {
        "id": "7scDZL6jdTEd",
        "colab_type": "code",
        "colab": {}
      },
      "source": [
        "# Funções podem conter código estruturado\n",
        "\n",
        "def fatorial(n):\n",
        "    fat = 1\n",
        "    for i in range(1, n+1): # 1, 2, 3, ..., n\n",
        "        fat *= i\n",
        "\n",
        "    return fat\n",
        "\n",
        "print(\"5! =\", fatorial(5))"
      ],
      "execution_count": 0,
      "outputs": []
    },
    {
      "cell_type": "code",
      "metadata": {
        "id": "JZEpZkfNdsla",
        "colab_type": "code",
        "colab": {}
      },
      "source": [
        "# Funções podem ter mais de um return\n",
        "\n",
        "def testa(x):\n",
        "    if x<10:\n",
        "        return \"é menor que 10.\"    # Acaba execução da função\n",
        "    if x==10:\n",
        "        return \"é igual a 10.\"\n",
        "    return \"é maior que 10.\"\n",
        "    \n",
        "for i in range(1, 20, 3):\n",
        "    print(i, testa(i))\n"
      ],
      "execution_count": 0,
      "outputs": []
    },
    {
      "cell_type": "code",
      "metadata": {
        "id": "NiTU2EIovKYH",
        "colab_type": "code",
        "colab": {}
      },
      "source": [
        "# Funções podem chamar outras funções.\n",
        "import numpy as np\n",
        "\n",
        "def f(x):\n",
        "    return x**2 + 1\n",
        "\n",
        "def g(x):\n",
        "    return f(x) + 1 + np.sin(x)\n",
        "\n",
        "print(g(2))"
      ],
      "execution_count": 0,
      "outputs": []
    },
    {
      "cell_type": "code",
      "metadata": {
        "id": "tFozmcJ-NDtb",
        "colab_type": "code",
        "colab": {}
      },
      "source": [
        "# Funções podem chamar a si mesmas. \n",
        "# Cuidado com recursões!\n",
        "\n",
        "def fatorial (n):\n",
        "    assert n>=0, 'n deve ser um inteiro não negativo.'\n",
        "    if n==0 or n==1:\n",
        "        return 1\n",
        "    # print(\"Recebi \", n)\n",
        "    return n*fatorial(n-1) #n! = n(n-1)(n-2)... 5! = 5.4.3.2.1 = 5.4!, n!  = n.(n-1)!\n",
        "\n",
        "n = 5\n",
        "print(n, \"! =\", fatorial(n))"
      ],
      "execution_count": 0,
      "outputs": []
    },
    {
      "cell_type": "markdown",
      "metadata": {
        "id": "tkXTM4EC1Tv1",
        "colab_type": "text"
      },
      "source": [
        "# Funções lambda\n",
        "* Uma forma de definir uma função \"em linha\".\n",
        "* Funções lambda podem ser anônimas.\n"
      ]
    },
    {
      "cell_type": "code",
      "metadata": {
        "id": "oipXLMRr2Hox",
        "colab_type": "code",
        "colab": {}
      },
      "source": [
        "# Exemplo\n",
        "\n",
        "f = lambda x : x**2 + 1   # Define f(x) = x**2 + 1\n",
        "\n",
        "print(f(3))\n",
        "\n",
        "def f(x):\n",
        "    return x**2 + 1"
      ],
      "execution_count": 0,
      "outputs": []
    },
    {
      "cell_type": "code",
      "metadata": {
        "id": "5WXb8p5m2Mte",
        "colab_type": "code",
        "colab": {}
      },
      "source": [
        "# Outro exemplo com dois parâmetros\n",
        "f = lambda x, y : x * y   # Define f(x,y) = x*y\n",
        "\n",
        "print(f(10,2))"
      ],
      "execution_count": 0,
      "outputs": []
    },
    {
      "cell_type": "code",
      "metadata": {
        "id": "GbHm2erA2ctS",
        "colab_type": "code",
        "colab": {}
      },
      "source": [
        "# Função anônima (sem nome)\n",
        "\n",
        "\n",
        "print((lambda x, y : x * y)(2,3))  \n",
        "# Define a função de forma anônima e calcula em (2,3)"
      ],
      "execution_count": 0,
      "outputs": []
    },
    {
      "cell_type": "code",
      "metadata": {
        "id": "SbJhuJU-2vgD",
        "colab_type": "code",
        "colab": {}
      },
      "source": [
        "# Aplicação: usando função lambda ao passar uma função como parâmetro.\n",
        "\n",
        "nomes = ['Ana Maria', 'Daniel', 'Luís', 'Carla', 'Mariana']\n",
        "\n",
        "# Coloca em ordem lexicográfica\n",
        "nomes.sort()\n",
        "print(nomes)\n",
        "\n",
        "# Coloca em ordem de comprimento\n",
        "nomes.sort(key=len) # A chave é a função usada para ordenar.\n",
        "print(nomes)\n",
        "\n",
        "# Coloca em ordem da contagem de letras 'a' ou 'A'\n",
        "def chave(nome):\n",
        "    return nome.count('a') + nome.count('A')\n",
        "\n",
        "nomes.sort(key=chave)\n",
        "print(nomes)\n",
        "\n",
        "\n",
        "# Coloca em ordem de número de letras 'a' ou 'A' usando uma função lambda anônima\n",
        "nomes.sort(key=lambda nome: nome.count('a') + nome.count('A'))\n",
        "print(nomes)\n"
      ],
      "execution_count": 0,
      "outputs": []
    },
    {
      "cell_type": "markdown",
      "metadata": {
        "id": "yb9SZHp35wVe",
        "colab_type": "text"
      },
      "source": [
        "# Aplicações\n",
        "* Quebrar o código em pedaços funcionais\n"
      ]
    },
    {
      "cell_type": "code",
      "metadata": {
        "id": "rnlr91Bj5x6c",
        "colab_type": "code",
        "colab": {}
      },
      "source": [
        "import urllib       # https://docs.python.org/3.8/library/urllib.html\n",
        "import csv          # https://docs.python.org/3.8/library/csv.html\n",
        "import io           # https://docs.python.org/3.8/library/io.html\n",
        "import numpy as np\n",
        "import matplotlib.pyplot as plt\n",
        "import matplotlib.ticker as ticker\n",
        "\n",
        "# Define uma função para buscar dados de um pais\n",
        "def dados_pais(pais):\n",
        "# O pais PODE estar listado dividido em regiões.\n",
        "    numero_de_casos = np.zeros(len(lista[0]) - 4)\n",
        "    for linha in lista: \n",
        "        if linha[1] == pais:\n",
        "            numero_de_casos += np.array(linha[4:], dtype='int')\n",
        "    return numero_de_casos\n",
        "\n",
        "\n",
        "#######################\n",
        "### Principal\n",
        "#######################\n",
        "\n",
        "# https://github.com/CSSEGISandData/COVID-19/blob/master/csse_covid_19_data/csse_covid_19_time_series/time_series_covid19_confirmed_global.csv\n",
        "url = 'https://raw.githubusercontent.com/CSSEGISandData/COVID-19/master/csse_covid_19_data/csse_covid_19_time_series/time_series_covid19_confirmed_global.csv'\n",
        "lista = list(csv.reader(io.StringIO(urllib.request.urlopen(url).read().decode('utf-8'))))\n",
        "datas = lista[0][4:]\n",
        "\n",
        "dias_a_plotar = 60\n",
        "datas = datas[-dias_a_plotar:]\n",
        "\n",
        "fig, ax = plt.subplots(1, 1)\n",
        "paises = ['Brazil', 'Italy', 'US']\n",
        "\n",
        "for pais in paises:\n",
        "    numero_de_casos = dados_pais(pais)[-dias_a_plotar:]\n",
        "    ax.plot(datas, numero_de_casos)\n",
        "\n",
        "\n",
        "# Legenda\n",
        "ax.legend(paises)\n",
        "\n",
        "# Ajusta ticks a 45 graus\n",
        "plt.xticks(rotation=45)\n",
        "ax.xaxis.set_major_locator(ticker.AutoLocator())\n",
        "\n",
        "ax.set_yscale('log')\n",
        "ax.set_ylim(bottom=1)\n",
        "ax.grid(True)\n",
        "fig.patch.set_facecolor('white')\n",
        "plt.show()\n",
        "\n"
      ],
      "execution_count": 0,
      "outputs": []
    },
    {
      "cell_type": "markdown",
      "metadata": {
        "id": "kXeaesMS8H8z",
        "colab_type": "text"
      },
      "source": [
        "# Laço do tipo while (enquanto)\n",
        "* Executa repetidas vez um bloco código enquanto uma dada condição é verdadeira"
      ]
    },
    {
      "cell_type": "code",
      "metadata": {
        "id": "SmthhK2j8TT_",
        "colab_type": "code",
        "colab": {}
      },
      "source": [
        "x = 0\n",
        "while x<10:   # Repete enquanto x<10\n",
        "    print(x)\n",
        "    x += 2\n"
      ],
      "execution_count": 0,
      "outputs": []
    },
    {
      "cell_type": "code",
      "metadata": {
        "id": "2Avxd6zn8s49",
        "colab_type": "code",
        "colab": {}
      },
      "source": [
        "import scipy as sp\n",
        "#from scipy import random\n",
        "alea = sp.random.default_rng() # Incializa gerador de números aleatórios\n",
        "\n",
        "print(alea.integers(100)) # Distribuição uniforme\n",
        "# dir(alea)"
      ],
      "execution_count": 0,
      "outputs": []
    },
    {
      "cell_type": "code",
      "metadata": {
        "id": "0pF5ux4g-IO2",
        "colab_type": "code",
        "colab": {}
      },
      "source": [
        "x = 0\n",
        "j = 0\n",
        "while x<95: \n",
        "    x = alea.integers(100)\n",
        "    print(j, x, sep=':\\t')\n",
        "    j += 1"
      ],
      "execution_count": 0,
      "outputs": []
    },
    {
      "cell_type": "code",
      "metadata": {
        "id": "XLmB7egRBKns",
        "colab_type": "code",
        "colab": {}
      },
      "source": [
        "s = ''\n",
        "while s != 'a':\n",
        "    s=input(\"Entre com uma palavra: \")"
      ],
      "execution_count": 0,
      "outputs": []
    },
    {
      "cell_type": "code",
      "metadata": {
        "id": "3kubyYHJ87v9",
        "colab_type": "code",
        "cellView": "form",
        "colab": {}
      },
      "source": [
        "#@title Testa se n é primo\n",
        "import numpy as np\n",
        "\n",
        "def teste_de_primalidade(n): # um número >1 é primo se for divisível apenas por 1 e por si mesmo\n",
        "    raiz = int(np.sqrt(n))\n",
        "\n",
        "    if n == 1:\n",
        "         return False\n",
        "    if n == 2:\n",
        "        return True\n",
        "    if n%2 == 0:        # % = resto da divisão inteira\n",
        "        return False\n",
        "\n",
        "    k = 3\n",
        "    while (k<=raiz):  # testa divisibilidade por 3, 5, 7, 9, 11 etc \n",
        "        if n%k == 0:\n",
        "            return False\n",
        "        k += 2\n",
        "    return True\n",
        "\n",
        "n = 0\n",
        "itens_a_contar = 30\n",
        "for i in range(1, itens_a_contar):\n",
        "    if teste_de_primalidade(i):\n",
        "        print(i, \"é primo.\")\n",
        "        n += 1\n",
        "\n",
        "print('Existem', n, 'primos até', itens_a_contar, '.')\n"
      ],
      "execution_count": 0,
      "outputs": []
    },
    {
      "cell_type": "code",
      "metadata": {
        "id": "pL5bnTrUIqGN",
        "colab_type": "code",
        "colab": {}
      },
      "source": [
        "# Pode-se colocar um else\n",
        "\n",
        "n = 2\n",
        "while n<4:  \n",
        "    print(n, 'é menor que 4.')\n",
        "    n += 1\n",
        "else:  # Senão\n",
        "    print(n, 'não é menor que 4.') # é executado quando a condição é falsa"
      ],
      "execution_count": 0,
      "outputs": []
    },
    {
      "cell_type": "code",
      "metadata": {
        "id": "5rpKbKcGI8EO",
        "colab_type": "code",
        "colab": {}
      },
      "source": [
        "# break evita o else\n",
        "n = 1\n",
        "while n<4:\n",
        "    print(n, 'é menor que 4.')\n",
        "    n += 1\n",
        "    if n == 3:\n",
        "        break\n",
        "else:\n",
        "    print(n, 'não é menor que 4.')"
      ],
      "execution_count": 0,
      "outputs": []
    },
    {
      "cell_type": "markdown",
      "metadata": {
        "id": "_RzWzQzyKR5C",
        "colab_type": "text"
      },
      "source": [
        "# Exemplo\n",
        "Considere o problema de calcular de calcular a soma de n termos a seguir:\n",
        "$$H_n = \\frac{1}{1} + \\frac{1}{2}+ \\frac{1}{3}+\\frac{1}{4}\\cdots + \\frac{1}{n}. $$\n",
        "\n",
        "* Escreva uma função que recebe n e calcula $H_n$.\n",
        "* Escreva uma função que recebe h e encontra o primeiro n tal que $H_n\\geq h$. "
      ]
    },
    {
      "cell_type": "code",
      "metadata": {
        "id": "QhgEeYVKMcU8",
        "colab_type": "code",
        "colab": {}
      },
      "source": [
        "def funcao_H(n):\n",
        "    return sum(1/i for i in range(1, n+1))\n",
        "\n",
        "def funcao_inv_H(h):\n",
        "    S = 0\n",
        "    n = 0\n",
        "    while S<h:\n",
        "        n += 1\n",
        "        S += 1/n\n",
        "    return n\n",
        "\n",
        "print(funcao_H(1000000))\n",
        "print(funcao_inv_H(10))"
      ],
      "execution_count": 0,
      "outputs": []
    },
    {
      "cell_type": "code",
      "metadata": {
        "id": "T3xHqOUGOwRT",
        "colab_type": "code",
        "colab": {}
      },
      "source": [
        "# Paradoxo?\n",
        "\n",
        "x = 1.0\n",
        "n = 0\n",
        "while (x+1 > x):  # Loop sem fim?\n",
        "    x *= 2\n",
        "    n += 1\n",
        "\n",
        "print(n)\n"
      ],
      "execution_count": 0,
      "outputs": []
    },
    {
      "cell_type": "code",
      "metadata": {
        "id": "rZB4-auppXQT",
        "colab_type": "code",
        "colab": {}
      },
      "source": [
        "print(1.000_000_000_000_000_1 == 1)\n"
      ],
      "execution_count": 0,
      "outputs": []
    }
  ]
}